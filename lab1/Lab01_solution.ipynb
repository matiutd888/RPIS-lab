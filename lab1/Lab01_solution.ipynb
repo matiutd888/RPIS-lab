{
 "cells": [
  {
   "cell_type": "code",
   "execution_count": 1,
   "metadata": {
    "hide_input": true
   },
   "outputs": [],
   "source": [
    "import math\n",
    "import numpy as np\n",
    "import pandas as pd\n",
    "import matplotlib.pyplot as plt\n",
    "\n",
    "%matplotlib inline"
   ]
  },
  {
   "cell_type": "markdown",
   "metadata": {},
   "source": [
    "# Birthday paradox"
   ]
  },
  {
   "cell_type": "markdown",
   "metadata": {},
   "source": [
    "**Problem 1a.** During exercise session, we showed that for $d$ equally likely dates in a year and $n$ people, the probability of a repeat date is $p(n)=1-\\frac{d^\\underline{n}}{d^n}$. We also derived a simple approximate formula for this probability: $p_a(n) = 1-e^{-\\frac{n(n-1)}{2d}}$. In particular, this approximation implies that for $d=365$ dates, $p(n)$ is close to $\\frac{1}{2}$ for $n=23$.\n",
    "\n",
    "Verify how good the approximation is. To this end, write a program that computes the exact value of $p(n)$ as well as the value of the approximation $p_a(n)$ for $d=365$ and $n=1,\\ldots,60$. Plot the graphs of the two functions."
   ]
  },
  {
   "cell_type": "code",
   "execution_count": 2,
   "metadata": {
    "hide_input": true,
    "scrolled": false
   },
   "outputs": [
    {
     "data": {
      "image/png": "[encoded data removed]",
      "text/plain": [
       "<Figure size 720x432 with 1 Axes>"
      ]
     },
     "metadata": {
      "needs_background": "light"
     },
     "output_type": "display_data"
    }
   ],
   "source": [
    "# pure Python implementation\n",
    "def p(d, n):\n",
    "    v = 1.0\n",
    "    for i in range(n):\n",
    "        v = v * (d - i) / d\n",
    "    return 1 - v\n",
    "\n",
    "\n",
    "# numpy implementation\n",
    "def p_numpy(d, n):\n",
    "    d_fact = np.arange(d, d - n, step=-1, dtype=np.float32)\n",
    "    d = np.repeat(d, n)\n",
    "    return 1. - np.prod(d_fact / d)\n",
    "    \n",
    "\n",
    "def p_a(d, n):\n",
    "    return 1 - math.exp(-0.5 * n * (n - 1) / d)\n",
    "\n",
    "\n",
    "d = 365\n",
    "n = 60\n",
    "x = range(1, n + 1)\n",
    "\n",
    "# list comprehensions\n",
    "y = [p(d, i) for i in x]\n",
    "y_numpy = [p_numpy(d, i) for i in x]\n",
    "y_a = [p_a(d, i) for i in x]\n",
    "\n",
    "# check if numpy version and Python give the same results\n",
    "assert np.isclose(y, y_numpy).all()\n",
    "\n",
    "# create plot\n",
    "plt.figure(figsize=(10,6))\n",
    "x_plot, = plt.plot(x, y, label=\"p\")\n",
    "x_a_plot, = plt.plot(x, y_a, label=\"p_a\")\n",
    "plt.hlines([0.5,1.0], [0,0], [23,60], colors='red', linestyles='dashed')\n",
    "plt.vlines([23], [0], [0.5], colors='red', linestyles='dashed')\n",
    "\n",
    "plt.legend(handles=[x_plot, x_a_plot], loc=4, fontsize='large')\n",
    "plt.show()\n",
    "\n",
    "# we can see that the approximation is relatively good"
   ]
  },
  {
   "cell_type": "markdown",
   "metadata": {
    "hide_input": true
   },
   "source": [
    "**Problem 1b.**\n",
    "Implement a function, that chooses random dates out of $1,\\ldots,d$ until a repeat occurs. The function should return the number of the step in which that happened. Run the function $N=100\\,000$ times.\n",
    "    * Plot a histogram of the return values.\n",
    "    * Which return value seems most likely? \n",
    "    * What is the average of the return values?\n",
    "    * Is there any simple relation between these two numbers and the value $23$ in the previous problem?\n",
    "    * Is there any simple relation between the histogram obtained, and the plot in the previous problem?"
   ]
  },
  {
   "cell_type": "code",
   "execution_count": 3,
   "metadata": {
    "hide_input": false
   },
   "outputs": [],
   "source": [
    "import random\n",
    "\n",
    "\n",
    "def dates(d):\n",
    "    s = set()\n",
    "    for k in range(d + 1):\n",
    "        x = random.randint(1, d)  # alternative: np.random.randint(1, d + 1)\n",
    "        if x in s:\n",
    "            return k + 1\n",
    "        else:\n",
    "            s.add(x)\n",
    "\n",
    "\n",
    "d = 365\n",
    "sample = [dates(d) for iter in range(100000)]"
   ]
  },
  {
   "cell_type": "code",
   "execution_count": 4,
   "metadata": {
    "hide_input": false
   },
   "outputs": [
    {
     "data": {
      "image/png": "[encoded data removed]",
      "text/plain": [
       "<Figure size 720x432 with 1 Axes>"
      ]
     },
     "metadata": {
      "needs_background": "light"
     },
     "output_type": "display_data"
    },
    {
     "name": "stdout",
     "output_type": "stream",
     "text": [
      "Couple first most likely values: [20, 22, 21, 18, 23, 17, 19, 24, 16, 25]\n",
      "Average value: 24.64893\n",
      "Average value using numpy: 24.64893\n"
     ]
    }
   ],
   "source": [
    "plt.figure(figsize=(10, 6))\n",
    "plt.hist(sample, bins=range(1, 101))\n",
    "plt.show()\n",
    "\n",
    "# calcultating most probable values in pure Python\n",
    "k_counts = sorted(list(set(sample)), key=sample.count, reverse=True)\n",
    "\n",
    "# numpy version\n",
    "vals, counts = np.unique(sample, return_counts=True)\n",
    "k_counts_numpy = vals[np.argsort(counts)][::-1]\n",
    "\n",
    "# check numpy results\n",
    "# for all values there may be problems with ties so check only first 10 (still might fail rarely)\n",
    "assert (k_counts_numpy[:10] == k_counts[:10]).all()\n",
    "\n",
    "print('Couple first most likely values: {}'.format(k_counts[:10]))\n",
    "\n",
    "print('Average value: {}'.format(float(sum(sample)) / len(sample)))\n",
    "print('Average value using numpy: {}'.format(np.mean(sample)))"
   ]
  },
  {
   "cell_type": "markdown",
   "metadata": {},
   "source": [
    "**Problem 1c.** Here we investigate how our analysis using the classical approach compares to a more empirical one. The file *us_births_69_88.csv* contains the counts for birthdates from 1969 to 1988. Only those births, for which the full date is known, are included in the file.\n",
    "    * Read the file.\n",
    "    * Investigate the data. Do you notice anything strange?\n",
    "    * Plot a heatmap of the data. Do you notice any significant deviations from the uniform assumption? Can you explain them?\n",
    "    * Implement a sampling function as in 1b, but this time using the supplied data. Compare the results."
   ]
  },
  {
   "cell_type": "code",
   "execution_count": 5,
   "metadata": {},
   "outputs": [
    {
     "data": {
      "text/html": [
       "<div>\n",
       "<style scoped>\n",
       "    .dataframe tbody tr th:only-of-type {\n",
       "        vertical-align: middle;\n",
       "    }\n",
       "\n",
       "    .dataframe tbody tr th {\n",
       "        vertical-align: top;\n",
       "    }\n",
       "\n",
       "    .dataframe thead th {\n",
       "        text-align: right;\n",
       "    }\n",
       "</style>\n",
       "<table border=\"1\" class=\"dataframe\">\n",
       "  <thead>\n",
       "    <tr style=\"text-align: right;\">\n",
       "      <th></th>\n",
       "      <th>month</th>\n",
       "      <th>day</th>\n",
       "      <th>births</th>\n",
       "    </tr>\n",
       "  </thead>\n",
       "  <tbody>\n",
       "    <tr>\n",
       "      <th>0</th>\n",
       "      <td>1</td>\n",
       "      <td>1</td>\n",
       "      <td>160369</td>\n",
       "    </tr>\n",
       "    <tr>\n",
       "      <th>1</th>\n",
       "      <td>1</td>\n",
       "      <td>2</td>\n",
       "      <td>169896</td>\n",
       "    </tr>\n",
       "    <tr>\n",
       "      <th>2</th>\n",
       "      <td>1</td>\n",
       "      <td>3</td>\n",
       "      <td>180036</td>\n",
       "    </tr>\n",
       "    <tr>\n",
       "      <th>3</th>\n",
       "      <td>1</td>\n",
       "      <td>4</td>\n",
       "      <td>182854</td>\n",
       "    </tr>\n",
       "    <tr>\n",
       "      <th>4</th>\n",
       "      <td>1</td>\n",
       "      <td>5</td>\n",
       "      <td>184145</td>\n",
       "    </tr>\n",
       "  </tbody>\n",
       "</table>\n",
       "</div>"
      ],
      "text/plain": [
       "   month  day  births\n",
       "0      1    1  160369\n",
       "1      1    2  169896\n",
       "2      1    3  180036\n",
       "3      1    4  182854\n",
       "4      1    5  184145"
      ]
     },
     "execution_count": 5,
     "metadata": {},
     "output_type": "execute_result"
    }
   ],
   "source": [
    "# use pandas to read data\n",
    "stats = pd.read_csv('us_births_69_88.csv')\n",
    "stats.head()"
   ]
  },
  {
   "cell_type": "code",
   "execution_count": 6,
   "metadata": {},
   "outputs": [
    {
     "data": {
      "text/plain": [
       "births    98\n",
       "Name: (2, 30), dtype: int64"
      ]
     },
     "execution_count": 6,
     "metadata": {},
     "output_type": "execute_result"
    }
   ],
   "source": [
    "# data contains several errors\n",
    "# 98 people born on february 30th ...\n",
    "stats.set_index(['month', 'day']).loc[(2, 30)]"
   ]
  },
  {
   "cell_type": "code",
   "execution_count": 7,
   "metadata": {},
   "outputs": [
    {
     "data": {
      "image/png": "[encoded data removed]",
      "text/plain": [
       "<Figure size 720x432 with 1 Axes>"
      ]
     },
     "metadata": {
      "needs_background": "light"
     },
     "output_type": "display_data"
    }
   ],
   "source": [
    "# convert to numpy.ndarray\n",
    "stats = stats.values\n",
    "\n",
    "plt.figure(figsize=(10, 6))\n",
    "plt.hist(np.arange(stats.shape[0]), \n",
    "         weights=stats[:, 2], \n",
    "         bins=np.arange(stats.shape[0] + 1))\n",
    "plt.show()\n",
    "\n",
    "# Generally we see more births during june-august"
   ]
  },
  {
   "cell_type": "code",
   "execution_count": 8,
   "metadata": {},
   "outputs": [
    {
     "data": {
      "image/png": "[encoded data removed]",
      "text/plain": [
       "<Figure size 720x432 with 1 Axes>"
      ]
     },
     "metadata": {
      "needs_background": "light"
     },
     "output_type": "display_data"
    }
   ],
   "source": [
    "counts = np.zeros((12, 31), dtype=np.int32)\n",
    "\n",
    "# use advanced indexing with a tuple of array indices\n",
    "counts[stats[:, 0] - 1, stats[:, 1] - 1] = stats[:, 2]\n",
    "    \n",
    "plt.figure(figsize=(10, 6))\n",
    "plt.pcolor(counts)\n",
    "plt.show()\n",
    "\n",
    "# plot birth counts again but with heatmap"
   ]
  },
  {
   "cell_type": "code",
   "execution_count": 9,
   "metadata": {},
   "outputs": [],
   "source": [
    "# pref_sums contains prefix sums of birth counts\n",
    "def emp_dates(pref_sums):\n",
    "    s = set()\n",
    "    for k in np.arange(len(pref_sums) + 1):\n",
    "        # sample x uniformly between [1, total_births]\n",
    "        x = np.random.randint(1, pref_sums[-1] + 1)\n",
    "        # sample day with probability proportional to birth count using binary search\n",
    "        day = np.searchsorted(pref_sums, x, side='left')\n",
    "        if day in s:\n",
    "            return k + 1\n",
    "        else:\n",
    "            s.add(day)\n",
    "\n",
    "\n",
    "pref_sums = np.cumsum(stats[:, 2])\n",
    "emp_sample = [emp_dates(pref_sums) for iter in range(100000)]"
   ]
  },
  {
   "cell_type": "code",
   "execution_count": 10,
   "metadata": {},
   "outputs": [
    {
     "data": {
      "image/png": "[encoded data removed]",
      "text/plain": [
       "<Figure size 720x432 with 1 Axes>"
      ]
     },
     "metadata": {
      "needs_background": "light"
     },
     "output_type": "display_data"
    },
    {
     "name": "stdout",
     "output_type": "stream",
     "text": [
      "Couple first most likely values: [21, 17, 22, 18, 19, 20, 25, 23, 24, 16]\n",
      "Average value: 24.62676\n",
      "Average value using numpy: 24.62676\n"
     ]
    }
   ],
   "source": [
    "plt.figure(figsize=(10, 6))\n",
    "plt.hist(emp_sample, bins=range(1, 101))\n",
    "plt.show()\n",
    "\n",
    "# calcultating most probable values in pure Python\n",
    "k_counts = sorted(list(set(emp_sample)), key=emp_sample.count, reverse=True)\n",
    "\n",
    "# numpy version\n",
    "vals, counts = np.unique(emp_sample, return_counts=True)\n",
    "k_counts_numpy = vals[np.argsort(counts)][::-1]\n",
    "\n",
    "# check numpy results\n",
    "# for all values there may be problems with ties so check only first 10 (still might fail rarely)\n",
    "assert (k_counts_numpy[:10] == k_counts[:10]).all()\n",
    "\n",
    "print('Couple first most likely values: {}'.format(k_counts[:10]))\n",
    "\n",
    "print('Average value: {}'.format(float(sum(emp_sample)) / len(emp_sample)))\n",
    "print('Average value using numpy: {}'.format(np.mean(emp_sample)))"
   ]
  },
  {
   "cell_type": "code",
   "execution_count": 11,
   "metadata": {},
   "outputs": [
    {
     "data": {
      "image/png": "[encoded data removed]",
      "text/plain": [
       "<Figure size 720x432 with 1 Axes>"
      ]
     },
     "metadata": {
      "needs_background": "light"
     },
     "output_type": "display_data"
    }
   ],
   "source": [
    "plt.figure(figsize=(10, 6))\n",
    "plt.hist(emp_sample, bins=range(1, 101), alpha=0.5)\n",
    "plt.hist(sample, bins=range(1, 101), alpha=0.5)\n",
    "plt.show()\n",
    "\n",
    "# compare both histograms"
   ]
  },
  {
   "cell_type": "code",
   "execution_count": null,
   "metadata": {},
   "outputs": [],
   "source": []
  }
 ],
 "metadata": {
  "hide_input": false,
  "kernelspec": {
   "display_name": "Python 3",
   "language": "python",
   "name": "python3"
  },
  "language_info": {
   "codemirror_mode": {
    "name": "ipython",
    "version": 3
   },
   "file_extension": ".py",
   "mimetype": "text/x-python",
   "name": "python",
   "nbconvert_exporter": "python",
   "pygments_lexer": "ipython3",
   "version": "3.7.5"
  }
 },
 "nbformat": 4,
 "nbformat_minor": 1
}
