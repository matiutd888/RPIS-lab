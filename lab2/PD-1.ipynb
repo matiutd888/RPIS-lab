{
 "cells": [
  {
   "cell_type": "code",
   "execution_count": 1,
   "metadata": {},
   "outputs": [],
   "source": [
    "import numpy as np\n",
    "import pandas as pd\n",
    "import matplotlib.pyplot as plt\n",
    "\n",
    "%matplotlib inline\n",
    "\n",
    "stats = pd.read_csv('../lab1/us_births_69_88.csv')\n",
    "\n",
    "# konwertowanie na numpy.ndarray\n",
    "stats = stats.values"
   ]
  },
  {
   "cell_type": "markdown",
   "metadata": {},
   "source": [
    "### Mateusz Nowakowski, Praca domowa 1, 2c\n",
    "\n",
    "#### 1. Show that algorithm always ends:\n",
    "\n",
    "Zauważmy, że suma kubełków jest stała i równa $1$.\n",
    "Niech $t$ będzie liczbą kubełków wypełnionych idealnie do pełna (nie zawierających ani za dużo, ani za mało). Jeśli $t = n$ algorytm się kończy (W przeciwnym razie, jeśli $t < n$, musi istnieć kubełek zawierający za mało, skoro suma kubełków jest stała).\n",
    "\n",
    "Zauważmy, że w każdym kroku algorytmu zwiększamy $t$ o co najmniej 1. Dzieje się tak, ponieważ za każdym razem kubełek $A$ wypełniamy do pełna zabierając z kubełka $B$, który zawiera nadwyżkę. Mamy więc dodatkowy kubełek zliczany zmienną $t$. Pozostaje jeszcze zauważyć, że skoro kubełek $B$ miał nadwyżkę, to nie należał do kubełków napełnionych idealnie do pełna, zabranie z niego zawartości by zwiększyć $A$ nie zmniejszy więc $t$ (za to może zwiększyć, jeśli zabierzemy idealnie wartość nadwyżki).\n",
    "\n",
    "Skoro w każdym kroku algorytmu zwiększamy $t$ o 1, i $t$ jest ograniczone z góry przez $n$ - ilość kubełków, to algorytm się skończy.\n",
    "\n",
    "#### 2. When it ends, each bucket contains pieces of at most two $p_i$'s.\n",
    "\n",
    "Zauważmy, że prawdziwym jest fakt, że każdy kubełek zaiwerający cześć dwóch $p_i$ jest pełny i taki pozostaje do końca algorytmu. Istotnie, drugie $p_i$ kubełek może dostać wtedy i tylko gdy wypełniany jest idealnie do pełna zawartością innego kubełka.\n",
    "Po wypełnieniu już nigdy nie zostanie wzięty ani jako kubełek $A$ - to znaczy kubełek zawierający za mało, ani jako kubełek $B$ - ten z nadmiarową zawartością, z którego pomocą wypełniamy kubełek $A$. Jego zawartość do końca algorytmu pozostanie więc taka sama. Nie będzie więc sytuacji, gdy do kubełka z cześciami dwóch $p_i$ dodajemy trzecią."
   ]
  },
  {
   "cell_type": "code",
   "execution_count": 2,
   "metadata": {},
   "outputs": [
    {
     "data": {
      "image/png": "[encoded data removed]",
      "text/plain": [
       "<Figure size 720x432 with 1 Axes>"
      ]
     },
     "metadata": {
      "needs_background": "light"
     },
     "output_type": "display_data"
    },
    {
     "name": "stdout",
     "output_type": "stream",
     "text": [
      "Birthday paradox cases: 40525\n",
      "2C: Couple first most likely values: [22 19 20 24 18 16 21 23 17 25]\n",
      "2C: Average value: 24.67553362122147\n",
      "Wall time: 667 ms\n"
     ]
    }
   ],
   "source": [
    "%%time\n",
    "\n",
    "# function that runs algorithm described in 2c and returns\n",
    "def fun(p):\n",
    "    n = len(p)\n",
    "    V = np.mean(p) # calulcating mean of p\n",
    "    original = np.array(p) # array containing info about how much of p_i is stored in i-th bucket \n",
    "    no_add = -1 # reprezents no additional p_i\n",
    "    \n",
    "    # array containing indexes of additional p_i\n",
    "    # if additional_index[i] = j, than 'i + 1' bucket has been filled using p_{j + 1} propability\n",
    "    additional_index = np.full((len(p),), no_add, dtype=int)\n",
    "    \n",
    "    i = 0 # 'i' represents index of bucket that is not full\n",
    "    j = 0 # 'j' represents index of bucket that overflows\n",
    "    \n",
    "    while(i < n and original[i] >= V):\n",
    "        i = i + 1\n",
    "    while(j < n and original[j] <= V):\n",
    "        j = j + 1\n",
    "    \n",
    "    while(i < n and j < n):\n",
    "        diff = V - original[i]\n",
    "        original[j] = original[j] - diff\n",
    "        additional_index[i] = j\n",
    "        i = min(i, j)\n",
    "        while(i < n and (additional_index[i] != no_add or original[i] >= V)):\n",
    "            i = i + 1\n",
    "        while(j < n and (additional_index[j] != no_add or original[j] <= V)):\n",
    "            j = j + 1\n",
    "    return (original, additional_index)\n",
    "\n",
    "n_births = stats[:, 2] # array containing number of births in each day\n",
    "birth_sum = sum(n_births)\n",
    "p = n_births / birth_sum # array of probailities\n",
    "avg = np.mean(p) # average value of p, is equal to V in the bucket algoritm\n",
    "\n",
    "def birthday_paradox(days):\n",
    "    counter_arr = []\n",
    "    s = set()\n",
    "    counter = 0\n",
    "    for d in days:\n",
    "        counter = counter + 1\n",
    "        if d in s:\n",
    "            counter_arr.append(counter)\n",
    "            s.clear()\n",
    "            counter = 0\n",
    "        else:\n",
    "             s.add(d)\n",
    "    return counter_arr\n",
    "\n",
    "N = 10 ** 6\n",
    "D = 372\n",
    "\n",
    "# vectorization\n",
    "random_days = np.random.randint(0, D, size = N)\n",
    "random_p = np.random.uniform(0, avg, size = N)\n",
    "buckets = fun(p)\n",
    "days_sample = np.where(random_p <= buckets[0][random_days], random_days + 1, buckets[1][random_days] + 1)\n",
    "\n",
    "birthday_sample = birthday_paradox(days_sample)\n",
    "\n",
    "plt.figure(figsize=(10, 6))\n",
    "plt.hist(birthday_sample, bins=range(1, 101), alpha=0.5)\n",
    "plt.show()\n",
    "\n",
    "vals, counts = np.unique(birthday_sample, return_counts=True)\n",
    "k_counts = vals[np.argsort(counts)][::-1]\n",
    "\n",
    "print(\"Birthday paradox cases:\", len(birthday_sample))\n",
    "\n",
    "print('2C: Couple first most likely values: {}'.format(k_counts[:10]))\n",
    "\n",
    "print('2C: Average value: {}'.format(np.mean(birthday_sample)))"
   ]
  },
  {
   "cell_type": "markdown",
   "metadata": {},
   "source": [
    "### Efficiency\n",
    "Let's test the efficiency of 2c algorithm, by comparing it to algorithm described in 2a"
   ]
  },
  {
   "cell_type": "code",
   "execution_count": 3,
   "metadata": {},
   "outputs": [
    {
     "data": {
      "image/png": "[encoded data removed]",
      "text/plain": [
       "<Figure size 720x432 with 1 Axes>"
      ]
     },
     "metadata": {
      "needs_background": "light"
     },
     "output_type": "display_data"
    },
    {
     "name": "stdout",
     "output_type": "stream",
     "text": [
      "2A: Birthday paradox cases = 40525\n",
      "2A: Couple first most likely values: [20 19 18 16 21 23 25 22 26 24]\n",
      "2A: Average value: 24.593608883405306\n",
      "Wall time: 6.8 s\n"
     ]
    }
   ],
   "source": [
    "%%time\n",
    "\n",
    "# Implementation of problem 2a, from https://github.com/lukaszgrad/rpis2020\n",
    "\n",
    "# we run 'n_birthday_samples' cases and test time\n",
    "\n",
    "# that's how many birthday paradox cases we managed to count in 2c, \n",
    "# now we want to run exact same number\n",
    "n_birthday_samples = len(birthday_sample)\n",
    "\n",
    "# an example of a closure in Python\n",
    "# Python functions are first class objects (e.g. can be returned in a function)\n",
    "def create_sample(counts):\n",
    "    max_count = np.max(counts)\n",
    "    size = counts.shape[0]\n",
    "    \n",
    "    def sample():\n",
    "        day = np.random.randint(0, size - 1)\n",
    "        if np.random.randint(1, max_count) <= counts[day]:\n",
    "            return day\n",
    "        return sample()\n",
    "    return sample\n",
    "\n",
    "\n",
    "def emp_dates(size, sample):\n",
    "    s = set()\n",
    "    for k in range(size + 1):\n",
    "        day = sample()\n",
    "        if day in s:\n",
    "            return k + 1\n",
    "        else:\n",
    "            s.add(day)\n",
    "\n",
    "\n",
    "size = stats.shape[0]\n",
    "sample = create_sample(stats[:, 2])\n",
    "emp_sample = [emp_dates(size, sample) for iter in range(n_birthday_samples)]\n",
    "\n",
    "plt.figure(figsize=(10, 6))\n",
    "plt.hist(emp_sample, bins=range(1, 101))\n",
    "plt.show()\n",
    "\n",
    "vals, counts = np.unique(emp_sample, return_counts=True)\n",
    "k_counts = vals[np.argsort(counts)][::-1]\n",
    "\n",
    "\n",
    "print(\"2A: Birthday paradox cases =\", n_birthday_samples)\n",
    "print('2A: Couple first most likely values: {}'.format(k_counts[:10]))\n",
    "\n",
    "print('2A: Average value: {}'.format(np.mean(emp_sample)))"
   ]
  },
  {
   "cell_type": "markdown",
   "metadata": {},
   "source": [
    "It is clear that algorithm 2c is much faster than 2a"
   ]
  }
 ],
 "metadata": {
  "kernelspec": {
   "display_name": "Python 3",
   "language": "python",
   "name": "python3"
  },
  "language_info": {
   "codemirror_mode": {
    "name": "ipython",
    "version": 3
   },
   "file_extension": ".py",
   "mimetype": "text/x-python",
   "name": "python",
   "nbconvert_exporter": "python",
   "pygments_lexer": "ipython3",
   "version": "3.8.6"
  }
 },
 "nbformat": 4,
 "nbformat_minor": 4
}
