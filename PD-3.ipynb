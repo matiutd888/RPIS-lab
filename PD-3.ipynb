{
 "cells": [
  {
   "cell_type": "markdown",
   "metadata": {},
   "source": [
    "# Mateusz Nowakowski, 3 zadanie zaliczeniowe"
   ]
  },
  {
   "cell_type": "markdown",
   "metadata": {},
   "source": [
    "**Problem 4d (Monte Carlo counting ctd).** In this problem we use a different distribution on assignments, to overcome the difficulties arising in **4c**. \n",
    " * How many assignments satisfy clause $C_i$?\n",
    " * How can we estimate the probability that a random assignment which satisfies $C_i$ does not satisfy any earlier clauses (i.e., $C_j$ for $j < i$)?\n",
    " * How can we estimate the number of assignments which satisfy $C_i$ but do not satisfy any earlier clauses?\n",
    " * How can we use the result of the previous question to construct an algorithm estimating the number of satisfying assignments?\n"
   ]
  },
  {
   "cell_type": "markdown",
   "metadata": {},
   "source": [
    " * How many assignments satisfy clause $C_i$?\n",
    "\n",
    "If $|C_i|$ is equal to number of variables used in $C_i$, then, assuming each variable is used in $C_i$ only once, and there are $M$ variables overall, it's:\n",
    "$$2^{M - |C_i|}$$\n",
    "because for every variable not used in clause $C_i$ can have any value"
   ]
  },
  {
   "cell_type": "markdown",
   "metadata": {},
   "source": [
    "* How can we estimate the probability that a random assignment which satisfies $C_i$ does not satisfy any earlier clauses (i.e., $C_j$ for $j < i$)?\n",
    "* How can we estimate the number of assignments which satisfy $C_i$ but do not satisfy any earlier clauses?"
   ]
  },
  {
   "cell_type": "code",
   "execution_count": 87,
   "metadata": {},
   "outputs": [],
   "source": [
    "import numpy as np\n",
    "\n",
    "#M = 4 # number of variables\n",
    "#phi = [ [1,-3,4], [-1,2] ]\n",
    "\n",
    "M = 64\n",
    "phi = [[55, 3, -50, -57, 2, 51, -5, -56, -45, 1],  [28, -1, -26, 35, 42, -43, 45, -56, -11, 6], [-18, 43, 1, 64, -34, 28, 48, -13, 29, 49], [-21, 12, 7, -49, -25, -45, 8, -51, 5, -26], [6, -26, 27, 51, 2, 9, 49, 29, -42, -35], [-12, 4, -32, -60, 2, 56, 31, 58, -19, -46], [-10, -52, 25, -8, -56, -24, -51, 20, 36, 22], [-64, -26, -36, -14, 3, 42, -20, -59, 25, 33], [-31, -33, 40, -29, -12, -49, 28, 11, 7, 22], [-25, 23, -17, -61, 34, 32, 24, -52, -21, -26], [-48, -42, -43, -24, 14, 50, -64, 60, 7, -53], [-1, 2, -61, -24, -53, 34, -13, 36, -46, 3], [3, -52, 60, 39, 9, 59, 57, 32, 6, -7], [-17, -28, -58, 33, 16, -22, -13, 26, 18, -11], [47, -39, 46, 40, -18, 24, 6, -23, -64, -22], [-6, 60, 35, 1, 52, 18, -33, 43, 45, -11], [57, -34, -32, 16, -41, -25, 37, 40, 43, -5], [58, -51, -40, 42, 5, 27, -41, 20, 32, 30], [-48, -11, -15, -14, -27, 17, -33, 55, -64, -51], [-11, -8, 48, 57, 42, 64, 40, -45, 13, -25], [-40, -39, 46, -36, -51, -58, 14, 7, -18, -6], [31, 38, -11, -45, -14, -9, -63, 27, -35, -46], [40, 11, 28, -26, -25, -20, -41, 16, 61, -32], [-35, 6, -58, 30, 62, -36, -7, -37, 38, 51], [-13, 58, 1, 14, 52, 8, 45, -49, -21, 51], [10, -62, -39, -57, 15, -40, 56, -31, -47, 23], [37, 22, -21, 52, -5, -19, -7, 50, 34, 9], [18, 14, -31, 27, -2, 5, 3, 48, 63, -34], [-43, 39, -29, 34, 60, -10, -61, -49, -42, 57], [-32, -29, -16, 53, -38, 52, -36, -62, -5, 45], [-28, 25, -31, -41, -44, -37, 20, 48, 59, 24], [49, -59, -13, -56, -29, -2, -45, -62, -38, -26], [-33, -31, 53, 64, 15, 17, 12, 50, 46, -54], [56, 57, 22, 4, 46, 21, 49, 14, 43, -41], [-8, 18, -21, -15, -42, -64, 45, 14, 13, -33], [-32, 62, 2, 10, -49, -64, 15, -35, -20, -17], [54, -64, -20, 37, -5, -26, -41, -35, 32, -25], [60, 58, -23, -43, -2, 15, 10, 9, 59, -45], [9, 29, -17, 45, -53, 18, 19, 50, 42, -61], [54, -51, 9, -52, -40, -37, -18, -59, 48, 3], [-32, -17, 38, 12, -27, 45, 57, -51, 56, 4], [-12, 62, -17, -50, -32, -45, -56, 46, 19, -61], [51, -27, 56, 45, 59, -25, 3, -18, 60, -44], [-50, 5, -10, 12, -23, -41, 31, -59, -35, 30], [-5, 18, -4, -63, 22, -40, 10, -62, 61, -35], [1, -10, 31, -41, 56, -17, -61, 22, 46, -14], [-45, 32, 54, -48, -25, 10, 31, -63, 38, -17], [50, -46, 44, -57, -45, -1, -63, 15, 4, 12], [-39, -28, 49, -9, 53, 25, 47, -6, 24, -36], [-41, 59, 13, 15, 21, -20, -19, 2, -22, 37], [-31, 23, -57, -38, 30, 59, 28, 6, 53, 26], [-38, -62, 14, 26, 12, 46, 10, 35, -18, -43], [20, -10, -48, -62, -17, -27, 49, -11, 59, 7], [-43, -46, -14, -31, -62, 52, -10, 40, -63, 32], [15, -12, 43, -19, -34, -25, -14, 62, 50, 61], [24, -52, 32, 61, 18, -44, 49, 29, 55, -57], [-27, 25, 55, -57, 12, 9, -43, 29, 36, 18], [13, -27, 21, -24, -8, 39, -60, 34, -11, 54], [-51, -3, 12, 26, -9, -23, -18, 28, 24, 11], [-1, -10, 9, 35, -55, -30, 48, 53, -32, -24], [-59, -58, -30, -46, 17, 11, 3, -18, -1, -50], [-61, -52, 17, -4, -44, -56, 64, 37, -47, 46], [28, 59, -23, 29, -5, -41, 39, 57, 2, 34], [-54, 56, 5, -20, -6, 13, 49, 28, -42, 25]]\n",
    "N = 1000\n",
    "\n",
    "# Samples N assigments that satisfy clause. \n",
    "# The values of variables that appear in clause\n",
    "# are already properly set in numpy array m.\n",
    "# The values of variables that need to be set are equal to -1.\n",
    "def sample(m, clause):\n",
    "    randints = np.random.randint(0, 2, size = (M - len(clause), N))\n",
    "    def sample_k(k):\n",
    "        local_m = m.copy()\n",
    "        i = 0\n",
    "        j = 0\n",
    "        while(i < M):\n",
    "            if (m[i] == -1):\n",
    "                local_m[i] = randints[j][k]\n",
    "                j += 1\n",
    "            i += 1\n",
    "        return local_m\n",
    "    return np.array([sample_k(k) for k in range(N)])\n",
    "\n",
    "# checks if expression is satisfied by assigment\n",
    "def conjuction(clause, assigment):\n",
    "    is_true_list = [np.sign(x)  * assigment[np.abs(x) - 1] for x in clause]\n",
    "    return all(is_true_list)\n",
    "\n",
    "# Function that estimates the number of assigments satisfying C_i where C_i = phi[index]\n",
    "# It sets the values of variables that appear in the clause to satisfy the clause C_i.\n",
    "# Then, it samples N assigments, by randomly choosing values of variables that do not appear in the clause C_i.\n",
    "# Counts the number (let's name that number 'assigment_count') of sampled assigments that do not satisfy any of the previous clauses (C_j for j < i)\n",
    "# The propability p_i that assigment satisfying C_i does not satisfy any of the previous clauses is estimated to be\n",
    "# approximately 'assigment_count' / N. \n",
    "# The number of assigments satisfying C_i that do not satisfy any of the previous clauses is then\n",
    "# equal to p_i times the total number of assigments satisfying C_i (which is equal to 2^(M - |C_i|))\n",
    "def count(index):\n",
    "    clause = phi[index]\n",
    "    m = np.full(M, -1)\n",
    "    \n",
    "    for x in clause:\n",
    "        if (m[abs(x) - 1] != -1):\n",
    "            return 0\n",
    "        m[abs(x) - 1] = 1 if x > 0 else 0\n",
    "    \n",
    "    sample_N = sample(m, clause)\n",
    "    def check(assigment_it):\n",
    "        phi_subarray = phi[:index]\n",
    "        return any(conjuction(clause_it, assigment_it) == 1 for clause_it in phi_subarray) != 1\n",
    "    \n",
    "    result = [check(it) for it in sample_N]\n",
    "    return (sum(result) / N) * (2 ** (M - len(clause)))"
   ]
  },
  {
   "cell_type": "markdown",
   "metadata": {},
   "source": [
    "* How can we use the result of the previous question to construct an algorithm estimating the number of satisfying assignments?\n",
    "\n",
    "For DNF formula\n",
    "\n",
    "$$\\phi = C_1 \\lor C_2 \\lor \\ldots \\lor C_n$$\n",
    "\n",
    "Let $T_i$ is number of assigments satisfying $C_i$ such that they don't satisfy any clause $C_j$ for $j < i$\n",
    "\n",
    "Then total number of assigments satisfying $\\phi$ is equal to\n",
    "\n",
    "$$\\sum_{i = 1}^n T_i$$\n",
    "\n",
    "To count all we just have to sum the result of our algorithm for $C_1, \\ldots, C_n$"
   ]
  },
  {
   "cell_type": "code",
   "execution_count": 89,
   "metadata": {},
   "outputs": [
    {
     "name": "stdout",
     "output_type": "stream",
     "text": [
      "1.1194147233792109e+18\n"
     ]
    }
   ],
   "source": [
    "def count_all():\n",
    "    return sum(np.array([count(index) for index in range(len(phi))]))\n",
    "\n",
    "print(count_all())"
   ]
  }
 ],
 "metadata": {
  "kernelspec": {
   "display_name": "Python 3",
   "language": "python",
   "name": "python3"
  },
  "language_info": {
   "codemirror_mode": {
    "name": "ipython",
    "version": 3
   },
   "file_extension": ".py",
   "mimetype": "text/x-python",
   "name": "python",
   "nbconvert_exporter": "python",
   "pygments_lexer": "ipython3",
   "version": "3.8.6"
  }
 },
 "nbformat": 4,
 "nbformat_minor": 1
}
