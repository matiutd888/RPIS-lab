{
 "cells": [
  {
   "cell_type": "markdown",
   "metadata": {},
   "source": [
    "# Mateusz Nowakowski, Praca Domowa 2, 3b"
   ]
  },
  {
   "cell_type": "markdown",
   "metadata": {},
   "source": [
    "**Problem 3b.** In this task we consider a discrete distribution *without a mean* and verify whether we can still estimate the location of its peak by simply computing averages. Consider a discrete variable $X$ with the following distribution: $P(X=k) = \\frac{1}{4|k|(|k|+1)}$ for $k \\neq 0$ and $P(X=0) = \\frac{1}{2}$. \n",
    " * Argue that these formulas indeed describe a discrete distribution.\n",
    " * Show that $X$ does not have a mean.\n",
    " * Plot the function $f(k) = P(X=k)$ for $k \\in [-10,10]$.\n",
    " * Write a function that samples from $X$'s distribution (imaginary bonus points if it is vectorized).\n",
    " * Generate $N=10\\,000$ values $x_1,\\ldots,x_n$ from the distribution.\n",
    " * For $i \\in \\{1,\\ldots,n\\}$ compute $\\bar{x}_i = \\frac{x_1+\\ldots+x_i}{i}$. \n",
    " * Plot the values of $\\bar{x}_i$. Does it look like the series converges? If it is not clear, you can compute several independent\n",
    "   $N$-means and plot a histogram, then increase $N$ significantly and see how it changes.\n",
    " * For $i \\in \\{1,\\ldots,n\\}$ compute $\\hat{x}_i = \\textrm{ median of }\\{x_1,\\ldots,x_i\\}$. \n",
    "   You do not need to do it in a clever way (like in ASD lab).\n",
    " * Plot the values of $\\hat{x}_i$. Does it look like the series converges? \n",
    " * A more interesting situation would be the one where you a given a distribution like $X+c$ for unknown $c$, and \n",
    "   want to figure out what $c$ is, i.e. find the center of the distribution. Both methods above attempt to\n",
    "   locate the center - which works better?"
   ]
  },
  {
   "cell_type": "markdown",
   "metadata": {},
   "source": [
    "To show, that $X$ is indeed a discrete distribution it has must satisfy sum condition:\n",
    "\n",
    "$\\sum_{x \\in \\mathbb{R}} P(X = x) = 1$\n",
    "\n",
    "Here we have\n",
    "\n",
    "$$\\sum_{x \\in \\mathbb{R}} P(X = x) = \\sum_{x \\in \\mathbb{Z}}P(X = x) = P(X = 0) + \\sum_{x \\in \\mathbb{Z} - \\{0\\}}P(X = x)\\\\ =  \\frac{1}{2} + 2 \\sum_{k = 1}^\\infty \\frac{1}{4} \\cdot \\frac{1}{k(k + 1)} = \\frac{1}{2} + 2 \\sum_{k = 1}^\\infty \\frac{1}{4} \\cdot \\frac{1}{k(k + 1)} \\\\ \n",
    "= \\frac{1}{2} + \\frac{1}{2} \\sum_{k = 1}^\\infty \\frac{1}{k} - \\frac{1}{k + 1} = \\frac{1}{2} + \\frac{1}{2}(\\lim_{n \\to \\infty} 1 - \\frac{1}{n}) = \\frac{1}{2} + \\frac{1}{2} = 1$$\n",
    "\n",
    "So the condition is satisfied.\n",
    "\n",
    "For the mean value to exist series that defines $EX$ must converge absolutely.\n",
    "\n",
    "For $X$ we get\n",
    "\n",
    "$EX = \\sum_{x \\in \\mathbb{R}} xP(X = x) = \\frac{1}{4}\\sum_{k \\in \\mathbb{Z} - \\{0\\}} \\frac{k}{|k|(|k| + 1)}$\n",
    "\n",
    "For absolute convergence sum\n",
    "\n",
    "$$\\sum_{k \\in \\mathbb{Z} - \\{0\\}} \\left|\\frac{k}{|k|(|k| + 1)}\\right|$$\n",
    "\n",
    "would have to converge\n",
    "\n",
    "But its easy to see that it doesn't:\n",
    "$$\\sum_{k \\in \\mathbb{Z} - \\{0\\}} \\left|\\frac{k}{|k|(|k| + 1)}\\right| = \\sum_{k \\in \\mathbb{Z} - \\{0\\}} \\frac{1}{(|k| + 1)} = 2 \\sum_{k = 2}^\\infty \\frac{1}{k} $$\n",
    "\n",
    "We know series $\\sum_{n = 1}^\\infty \\frac{1}{n}$ diverges."
   ]
  },
  {
   "cell_type": "code",
   "execution_count": 1,
   "metadata": {},
   "outputs": [],
   "source": [
    "import numpy as np\n",
    "import matplotlib.pyplot as plt\n",
    "import random\n",
    "import math\n",
    "%matplotlib inline"
   ]
  },
  {
   "cell_type": "markdown",
   "metadata": {},
   "source": [
    "* Plot the function $f(k) = P(X=k)$ for $k \\in [-10,10]$:"
   ]
  },
  {
   "cell_type": "code",
   "execution_count": 2,
   "metadata": {},
   "outputs": [
    {
     "data": {
      "image/png": "[encoded data removed]",
      "text/plain": [
       "<Figure size 720x432 with 1 Axes>"
      ]
     },
     "metadata": {
      "needs_background": "light"
     },
     "output_type": "display_data"
    }
   ],
   "source": [
    "def f(k):\n",
    "    if k == 0:\n",
    "        return 1 / 2\n",
    "    return 1 / (4 * abs(k) * (abs(k) + 1))\n",
    "\n",
    "arguments = np.arange(-10, 11)\n",
    "values = np.array([f(x) for x in arguments])\n",
    "\n",
    "plt.figure(figsize=(10, 6))\n",
    "plt.plot(arguments, values)\n",
    "plt.show()"
   ]
  },
  {
   "cell_type": "markdown",
   "metadata": {},
   "source": [
    "* Write a function that samples from $X$'s distribution (imaginary bonus points if it is vectorized):"
   ]
  },
  {
   "cell_type": "code",
   "execution_count": 3,
   "metadata": {},
   "outputs": [],
   "source": [
    "def sample():\n",
    "    is_zero = random.randint(0, 1)\n",
    "    if (is_zero == 1):\n",
    "        return 0\n",
    "    sign = -1 if random.randint(0, 1) == 1 else 1\n",
    "    x = 0\n",
    "    while(x == 0):\n",
    "        x = random.random() # it's VERY unlikely for this loop to run more than one time\n",
    "    k = np.ceil(1 / x) - 1\n",
    "    return k * sign"
   ]
  },
  {
   "cell_type": "markdown",
   "metadata": {},
   "source": [
    "### Quick explonation of function above\n",
    "In the distribution $P(X = 0) = \\frac{1}{2}$.\n",
    "As $X = 0$ is a inconvienient case we check if $X = 0$ by choosing a number from $\\{0, 1\\}$.\n",
    "Next, if $X \\neq 0$ there is an equal chance of drawing a positive and a negative number.\n",
    "Again, by choosing a number from $\\{0, 1\\}$ we sample sign of a number that will be returned.\n",
    "\n",
    "Now, if we know that $X \\neq 0$ and know $sign(X)$ we sample $X$ with assumption $X > 0$ (if by random choice $X < 0$ we just multiply sampled number by $-1$).\n",
    "\n",
    "From reasoning above it should obvious that $P(X > 0) = \\frac{1}{4}$\n",
    "\n",
    "For $k = 1, \\ldots, \\infty$ we have:\n",
    "$$ P(X = k | X > 0) = \\frac{P(X = k \\cap X > 0)}{P(X > 0)} = 4P(X = k) $$\n",
    "\n",
    "We begin sampling $X$ with assumption $X > 0$ by choosing uniformly $x$ from $(0, 1)$\n",
    "\n",
    "$$x \\in (0, 1)$$\n",
    "\n",
    "Now, if we find such $k$, that $\\frac{1}{k + 1}\\leq x < \\frac{1}{k}$ we say, that $X = k$. That reasoning\n",
    "is correct, because in uniform sampling for each $k$ propability of $x \\in [\\frac{1}{k + 1}, \\frac{1}{k})$ is equal to \n",
    "\n",
    "$$\\frac{1}{k} - \\frac{1}{k + 1} = \\frac{1}{k(k + 1)} = 4P(X = k) = P(X = k | X > 0)$$\n",
    "\n",
    "Now we only have to know a way of finding $k$ in constant time. It's not difficult:\n",
    "\n",
    "$$\\frac{1}{k + 1}\\leq x < \\frac{1}{k} \\implies k < \\frac{1}{x} \\leq k + 1$$\n",
    "$$k < \\frac{1}{x} \\leq k + 1 \\Leftrightarrow \\left\\lceil\\frac{1}{x}\\right\\rceil = k + 1$$\n",
    "\n",
    "So \n",
    "$$k = \\left\\lceil\\frac{1}{x}\\right\\rceil - 1$$"
   ]
  },
  {
   "cell_type": "markdown",
   "metadata": {},
   "source": [
    " * Generate $N=10\\,000$ values $x_1,\\ldots,x_n$ from the distribution.\n",
    " * For $i \\in \\{1,\\ldots,n\\}$ compute $\\bar{x}_i = \\frac{x_1+\\ldots+x_i}{i}$. \n",
    " * Plot the values of $\\bar{x}_i$. Does it look like the series converges? If it is not clear, you can compute several independent\n",
    " $N$-means and plot a histogram, then increase $N$ significantly and see how it changes.\n",
    " * For $i \\in \\{1,\\ldots,n\\}$ compute $\\hat{x}_i = \\textrm{ median of }\\{x_1,\\ldots,x_i\\}$. \n",
    "   You do not need to do it in a clever way (like in ASD lab).\n",
    " * Plot the values of $\\hat{x}_i$. Does it look like the series converges?"
   ]
  },
  {
   "cell_type": "code",
   "execution_count": 11,
   "metadata": {},
   "outputs": [
    {
     "data": {
      "image/png": "[encoded data removed]",
      "text/plain": [
       "<Figure size 720x432 with 1 Axes>"
      ]
     },
     "metadata": {
      "needs_background": "light"
     },
     "output_type": "display_data"
    }
   ],
   "source": [
    "N = 10000\n",
    "\n",
    "values = np.array([sample() for idx in range(N)])\n",
    "\n",
    "means = np.cumsum(values).astype(np.float32) / np.arange(1, N + 1)  # compute cumulative means\n",
    "\n",
    "plt.figure(figsize=(10, 6))\n",
    "plt.plot(means, label = \"means\")\n",
    "\n",
    "median_arr = np.array([np.median(values[0: i + 1]) for i in range(0, N)])\n",
    "plt.plot(median_arr, label = \"medians\")\n",
    "\n",
    "plt.legend()\n",
    "plt.show()"
   ]
  },
  {
   "cell_type": "markdown",
   "metadata": {},
   "source": [
    "Mean value doesn't seem to converge, whereas median converges to 0"
   ]
  },
  {
   "cell_type": "markdown",
   "metadata": {},
   "source": [
    " * A more interesting situation would be the one where you a given a distribution like $X+c$ for unknown $c$, and \n",
    "   want to figure out what $c$ is, i.e. find the center of the distribution. Both methods above attempt to\n",
    "   locate the center - which works better?"
   ]
  },
  {
   "cell_type": "markdown",
   "metadata": {},
   "source": [
    "Median seems to be working better, as it converges to 0"
   ]
  }
 ],
 "metadata": {
  "kernelspec": {
   "display_name": "Python 3",
   "language": "python",
   "name": "python3"
  },
  "language_info": {
   "codemirror_mode": {
    "name": "ipython",
    "version": 3
   },
   "file_extension": ".py",
   "mimetype": "text/x-python",
   "name": "python",
   "nbconvert_exporter": "python",
   "pygments_lexer": "ipython3",
   "version": "3.8.6"
  }
 },
 "nbformat": 4,
 "nbformat_minor": 4
}
