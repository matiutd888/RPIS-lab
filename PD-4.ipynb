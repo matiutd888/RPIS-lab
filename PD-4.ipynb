{
 "cells": [
  {
   "cell_type": "markdown",
   "metadata": {},
   "source": [
    "# Mateusz Nowakowski, 4 zadanie zaliczeniowe"
   ]
  },
  {
   "cell_type": "markdown",
   "metadata": {},
   "source": [
    "**Problem 5c (Chi-square independence test).** \n",
    "You are given the results of IPSOS exit polls for 2015 parliamentary elections in Poland in table **data**. Decide if we can assume that gender has no effect on voting preferences. To this end:\n",
    " * Compute row totals $r_i$, column totals $c_j$, and overall total $N$.\n",
    " * If the variables are independent, we expect to see $f_{ij} = r_i c_j / N$ in $i$-th row $j$-th column.\n",
    " * Compute the test statistic as before, i.e. $$ S = \\sum_{ij} \\frac{\\left(f_{ij}-X_{ij}\\right)^2}{f_{ij}}.$$\n",
    " * Again test vs $\\chi^2$ CDF. However, if the variables are independent, we only have $(r-1)(c-1)$ degrees of freedom here (we only need to know the row and column totals).\n",
    " * One obvious offender is the KORWiN party, try removing the last column and repeating the experiment.\n",
    " \n",
    "**Note:** This kind of data is (to the best of our knowledge) not available online. It has been recreated based on\n",
    "online infographics and other tidbits of information available online. It is definitely not completely accurate, hopefully it is not very far off. Moreover, exit polls do not necessary reflect the actual distribution of the population."
   ]
  },
  {
   "cell_type": "code",
   "execution_count": 9,
   "metadata": {},
   "outputs": [],
   "source": [
    "import numpy as np\n",
    "import scipy.stats\n",
    "\n",
    "# Rows: women, men\n",
    "# Columns: PiS, PO, Kukiz, Nowoczesna, Lewica, PSL, Razem, KORWiN\n",
    "\n",
    "#data = np.array([ [39.7,26.4,7.5,7.1,6.6,5.0,4.2,2.8], \n",
    "#                  [38.5,20.3,10.6,7.1,6.6,5.4,3.5,7.1]])\n",
    "\n",
    "data = np.array(\n",
    "    [[ 17508, 11642,  3308,  3131,  2911,  2205,  1852, 1235],\n",
    "     [ 17672,  9318,  4865,  3259,  3029,  2479,  1606, 3259]]\n",
    ")\n",
    "\n",
    "data = data // 50  # It is good to lower the sample size to obtain more realistic results"
   ]
  },
  {
   "cell_type": "code",
   "execution_count": 13,
   "metadata": {},
   "outputs": [],
   "source": [
    "def calculate(data):\n",
    "    n_rows, n_cols = data.shape\n",
    "\n",
    "    sum_total = np.sum(data)\n",
    "    sum_columns = np.sum(data, axis = 0)\n",
    "    sum_rows = np.sum(data, axis = 1)\n",
    "    \n",
    "    print(\"Overall total:\", sum_total)\n",
    "    print(\"Column totals: \", sum_columns)\n",
    "    print(\"Row totals: \",sum_rows)\n",
    "\n",
    "    expected = np.reshape(np.array([sum_rows[i] * sum_columns[j] / sum_total for i, j in np.ndindex((n_rows, n_cols))]), (n_rows, n_cols))\n",
    "    print()\n",
    "    print(\"Expected f_{i, j}:\")\n",
    "    print(expected)\n",
    "    print(\"\")\n",
    "    \n",
    "    S = np.sum([(expected[i][j] - data[i][j]) ** 2 / expected[i][j] for i, j in np.ndindex((n_rows, n_cols))])\n",
    "    print(\"S =\", S)\n",
    "    print()\n",
    "    \n",
    "    alpha = 0.5\n",
    "\n",
    "    deg = (n_rows - 1) * (n_cols - 1)\n",
    "\n",
    "    if (1 - scipy.stats.chi2.cdf(S, deg)) < alpha :\n",
    "        print(\"We reject the hypothesis! Gender may have an affect on voting preferences.\\n\")\n",
    "    else :\n",
    "        print(\"We accept the hypothesis! Gender has no affect on voting preferences.\\n\")"
   ]
  },
  {
   "cell_type": "code",
   "execution_count": 11,
   "metadata": {},
   "outputs": [
    {
     "name": "stdout",
     "output_type": "stream",
     "text": [
      "With KORWIN: \n",
      "\n",
      "Overall total: 1780\n",
      "Column totals:  [703 418 163 127 118  93  69  89]\n",
      "Row totals:  [873 907]\n",
      "\n",
      "Expected f_{i, j}:\n",
      "[[344.78595506 205.00786517  79.94325843  62.28707865  57.87303371\n",
      "   45.61179775  33.84101124  43.65      ]\n",
      " [358.21404494 212.99213483  83.05674157  64.71292135  60.12696629\n",
      "   47.38820225  35.15898876  45.35      ]]\n",
      "\n",
      "S = 29.955740932887522\n",
      "\n",
      "We reject the hypothesis! Gender may have an affect on voting preferences\n",
      "\n",
      "NO KORWIN: \n",
      "\n",
      "Overall total: 1691\n",
      "Column totals:  [703 418 163 127 118  93  69]\n",
      "Row totals:  [849 842]\n",
      "\n",
      "Expected f_{i, j}:\n",
      "[[352.95505618 209.86516854  81.83737433  63.76286221  59.24423418\n",
      "   46.69248965  34.6428149 ]\n",
      " [350.04494382 208.13483146  81.16262567  63.23713779  58.75576582\n",
      "   46.30751035  34.3571851 ]]\n",
      "\n",
      "S = 11.67783242040946\n",
      "\n",
      "We reject the hypothesis! Gender may have an affect on voting preferences\n",
      "\n"
     ]
    }
   ],
   "source": [
    "print(\"With KORWIN: \\n\")\n",
    "calculate(data)\n",
    "\n",
    "print(\"NO KORWIN: \\n\")\n",
    "calculate(data[:, :-1])"
   ]
  }
 ],
 "metadata": {
  "kernelspec": {
   "display_name": "Python 3",
   "language": "python",
   "name": "python3"
  },
  "language_info": {
   "codemirror_mode": {
    "name": "ipython",
    "version": 3
   },
   "file_extension": ".py",
   "mimetype": "text/x-python",
   "name": "python",
   "nbconvert_exporter": "python",
   "pygments_lexer": "ipython3",
   "version": "3.8.6"
  }
 },
 "nbformat": 4,
 "nbformat_minor": 4
}
